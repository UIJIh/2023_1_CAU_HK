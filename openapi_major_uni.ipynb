{
 "cells": [
  {
   "cell_type": "markdown",
   "id": "56b51da4",
   "metadata": {},
   "source": [
    "한계점 - 폐과포함"
   ]
  },
  {
   "cell_type": "markdown",
   "id": "fbdbad56",
   "metadata": {},
   "source": [
    "```python\n",
    "df = df[~df['학교명'].str.contains('대학원')]\n",
    "df = df[['학부_과(전공)명', '학교명']]\n",
    "```\n",
    "->TypeError: bad operand type for unary ~: 'float'\n",
    "\n",
    "\n",
    "해당 코드에서 발생하는 오류는 '~' 연산자가 부동 소수점(float) 타입에 적용되어 발생하는 타입 오류입니다. 이 오류는 데이터프레임의 '학교명' 열에 NaN(결측치)이 있어서 발생할 수 있습니다.\n",
    "\n",
    "해결 방법으로는 '학교명' 열의 결측치를 먼저 처리한 후 '~' 연산자를 사용하여 조건을 만족하는 행을 선택할 수 있습니다.\n",
    "\n",
    "```python\n",
    "# '학교명' 열의 결측치를 제거한 후 조건을 만족하는 행 선택\n",
    "df = df[~df['학교명'].fillna('').str.contains('대학원')]\n",
    "\n",
    "# 필요한 열만 선택하여 데이터프레임 재구성\n",
    "df = df[['학부_과(전공)명', '학교명']]\n",
    "\n",
    "print(df)\n",
    "```\n",
    "\n",
    "위의 수정된 코드는 '학교명' 열의 결측치를 빈 문자열('')로 대체한 후에 '~' 연산자를 사용하여 '대학원'이 포함되지 않은 행을 선택합니다. 그리고 필요한 열만 선택하여 데이터프레임을 재구성하고 출력합니다."
   ]
  },
  {
   "cell_type": "markdown",
   "id": "42419dd3",
   "metadata": {},
   "source": [
    "```\n",
    "f_grouped = df.groupby('학부_과(전공)명')['학교명'].apply(lambda x: ', '.join(x)).reset_index()\n",
    "df_grouped.to_csv('C:/Users/황의지/Desktop/hk+/major_uni.csv', index=False, encoding='utf-8-sig') \n",
    "```\n",
    "->TypeError: sequence item 0: expected str instance, float found\n",
    "```python\n",
    "df_grouped = df.groupby('학부_과(전공)명')['학교명'].apply(lambda x: ', '.join(x.dropna())).reset_index()\n",
    "df_grouped.to_csv('C:/Users/황의지/Desktop/hk+/major_uni.csv', index=False, encoding='utf-8-sig')\n",
    "```\n",
    "\n",
    "위의 코드에서 변경된 부분은 `lambda x: ', '.join(x.dropna())`입니다. 이 부분은 결측치를 제거하고 문자열을 결합하기 위해 `dropna()` 함수를 사용하여 NaN 값을 제거하는 부분입니다."
   ]
  },
  {
   "cell_type": "markdown",
   "id": "3dd0c320",
   "metadata": {},
   "source": [
    "# Method_1"
   ]
  },
  {
   "cell_type": "code",
   "execution_count": 1,
   "id": "d830bfe3",
   "metadata": {},
   "outputs": [
    {
     "name": "stdout",
     "output_type": "stream",
     "text": [
      "      학부_과(전공)명     학교명\n",
      "0         기계공학과   조선대학교\n",
      "1         기계공학과   한밭대학교\n",
      "2         기계공학과   단국대학교\n",
      "11        기계공학부  성균관대학교\n",
      "12        기계공학부   영남대학교\n",
      "...         ...     ...\n",
      "52209       화학과   울산대학교\n",
      "52210     물리학전공   울산대학교\n",
      "52211      물리학과   울산대학교\n",
      "52212    자연과학계열   울산대학교\n",
      "52213  교양대학(진천)   우석대학교\n",
      "\n",
      "[33043 rows x 2 columns]\n",
      "time : 24.637258529663086\n"
     ]
    }
   ],
   "source": [
    "import time\n",
    "import requests\n",
    "import pandas as pd\n",
    "from xml.etree import ElementTree\n",
    "\n",
    "#start = time.time()  # 시작 시간 저장\n",
    "\n",
    "url = 'https://api.odcloud.kr/api/15014632/v1/uddi:6939f45b-1283-4462-b394-820c26e1445d'\n",
    "params = {\n",
    "    'page': 1,\n",
    "    'perPage': 7000,\n",
    "    'returnType': 'XML',\n",
    "    'serviceKey': 'GjCdPonj23F6SdOIs8TsI4OEUkZIi3oa6PcTvdoGQZQIDMZTgCYzn4HlzpcPKxxxJXECIt+rqU1GNFtm3fB8IA=='\n",
    "}\n",
    "\n",
    "data = []\n",
    "\n",
    "while True:\n",
    "    response = requests.get(url, params=params)\n",
    "    xml_data = response.text\n",
    "    root = ElementTree.fromstring(xml_data)\n",
    "\n",
    "    for item in root.findall('data/item'):\n",
    "        item_data = {}\n",
    "        for col in item.findall('col'):\n",
    "            name = col.get('name')\n",
    "            if name == '학교명' or name == '학부_과(전공)명':\n",
    "                item_data[name] = col.text\n",
    "        data.append(item_data)\n",
    "\n",
    "    if int(root.findtext('totalCount')) <= len(data):\n",
    "        break\n",
    "\n",
    "    params['page'] += 1\n",
    "\n",
    "df = pd.DataFrame(data)\n",
    "\n",
    "df = df[~df['학교명'].fillna('').str.contains('대학원')]\n",
    "df = df[['학부_과(전공)명', '학교명']]\n",
    "\n",
    "print(df)\n",
    "\n",
    "#print(\"time :\", time.time() - start)  # 현재시각 - 시작시간 = 실행 시간"
   ]
  },
  {
   "cell_type": "markdown",
   "id": "6ecbe06b",
   "metadata": {},
   "source": [
    "# Method_2"
   ]
  },
  {
   "cell_type": "code",
   "execution_count": 2,
   "id": "8555266e-f367-4403-a4b7-2ce2bad113c7",
   "metadata": {},
   "outputs": [
    {
     "name": "stdout",
     "output_type": "stream",
     "text": [
      "      학부_과(전공)명     학교명\n",
      "0         기계공학과   조선대학교\n",
      "1         기계공학과   한밭대학교\n",
      "2         기계공학과   단국대학교\n",
      "11        기계공학부  성균관대학교\n",
      "12        기계공학부   영남대학교\n",
      "...         ...     ...\n",
      "52209       화학과   울산대학교\n",
      "52210     물리학전공   울산대학교\n",
      "52211      물리학과   울산대학교\n",
      "52212    자연과학계열   울산대학교\n",
      "52213  교양대학(진천)   우석대학교\n",
      "\n",
      "[33043 rows x 2 columns]\n",
      "time : 32.302387952804565\n"
     ]
    }
   ],
   "source": [
    "import time\n",
    "import requests\n",
    "import pandas as pd\n",
    "from xml.etree import ElementTree\n",
    "\n",
    "#start = time.time()\n",
    "\n",
    "url = 'https://api.odcloud.kr/api/15014632/v1/uddi:6939f45b-1283-4462-b394-820c26e1445d'\n",
    "params = {\n",
    "    'page': 1,\n",
    "    'perPage': 2906,\n",
    "    'returnType': 'XML',\n",
    "    'serviceKey': 'GjCdPonj23F6SdOIs8TsI4OEUkZIi3oa6PcTvdoGQZQIDMZTgCYzn4HlzpcPKxxxJXECIt+rqU1GNFtm3fB8IA=='\n",
    "}\n",
    "\n",
    "data = []\n",
    "\n",
    "for page in range(1, 38): \n",
    "    params['page'] = page\n",
    "    response = requests.get(url, params=params)\n",
    "    xml_data = response.text\n",
    "    root = ElementTree.fromstring(xml_data)\n",
    "\n",
    "    for item in root.findall('data/item'):\n",
    "        item_data = {}\n",
    "        for col in item.findall('col'):\n",
    "            name = col.get('name')\n",
    "            if name == '학교명' or name == '학부_과(전공)명':\n",
    "                item_data[name] = col.text\n",
    "        data.append(item_data)\n",
    "\n",
    "    if page == 55214:  # 원하는 페이지 수에 도달하면 반복문 종료\n",
    "        break\n",
    "\n",
    "df = pd.DataFrame(data)\n",
    "'''\n",
    "df = df[~df['학교명'].str.contains('대학원')]\n",
    "df = df[['학부_과(전공)명', '학교명']]\n",
    "'''\n",
    "# '학교명' 열의 결측치를 제거한 후 조건을 만족하는 행 선택\n",
    "df = df[~df['학교명'].fillna('').str.contains('대학원')]\n",
    "\n",
    "# 필요한 열만 선택하여 데이터프레임 재구성\n",
    "df = df[['학부_과(전공)명', '학교명']]\n",
    "\n",
    "print(df)\n",
    "\n",
    "#print(\"time :\", time.time() - start)"
   ]
  },
  {
   "cell_type": "code",
   "execution_count": 16,
   "id": "02e5039e",
   "metadata": {},
   "outputs": [],
   "source": [
    "df_grouped = df.groupby('학부_과(전공)명')['학교명'].apply(lambda x: ', '.join(x.dropna())).reset_index()\n",
    "df_grouped.to_csv('C:/Users/황의지/Desktop/hk+/major_uni.csv', index=False, encoding='utf-8-sig')"
   ]
  }
 ],
 "metadata": {
  "kernelspec": {
   "display_name": "Python 3 (ipykernel)",
   "language": "python",
   "name": "python3"
  },
  "language_info": {
   "codemirror_mode": {
    "name": "ipython",
    "version": 3
   },
   "file_extension": ".py",
   "mimetype": "text/x-python",
   "name": "python",
   "nbconvert_exporter": "python",
   "pygments_lexer": "ipython3",
   "version": "3.9.16"
  }
 },
 "nbformat": 4,
 "nbformat_minor": 5
}
